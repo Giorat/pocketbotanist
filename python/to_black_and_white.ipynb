{
 "cells": [
  {
   "cell_type": "code",
   "execution_count": 1,
   "metadata": {},
   "outputs": [
    {
     "name": "stdout",
     "output_type": "stream",
     "text": [
      "Requirement already satisfied: scikit-image in c:\\users\\giora\\appdata\\local\\programs\\python\\python36\\lib\\site-packages (0.14.0)\n",
      "Requirement already satisfied: six>=1.10.0 in c:\\users\\giora\\appdata\\local\\programs\\python\\python36\\lib\\site-packages (from scikit-image) (1.11.0)\n",
      "Requirement already satisfied: dask[array]>=0.9.0 in c:\\users\\giora\\appdata\\local\\programs\\python\\python36\\lib\\site-packages (from scikit-image) (0.17.5)\n",
      "Requirement already satisfied: PyWavelets>=0.4.0 in c:\\users\\giora\\appdata\\local\\programs\\python\\python36\\lib\\site-packages (from scikit-image) (0.5.2)\n",
      "Requirement already satisfied: pillow>=4.3.0 in c:\\users\\giora\\appdata\\local\\programs\\python\\python36\\lib\\site-packages (from scikit-image) (5.1.0)\n",
      "Requirement already satisfied: networkx>=1.8 in c:\\users\\giora\\appdata\\local\\programs\\python\\python36\\lib\\site-packages (from scikit-image) (2.1)\n",
      "Requirement already satisfied: cloudpickle>=0.2.1 in c:\\users\\giora\\appdata\\local\\programs\\python\\python36\\lib\\site-packages (from scikit-image) (0.5.3)\n",
      "Requirement already satisfied: numpy>=1.11.0; extra == \"array\" in c:\\users\\giora\\appdata\\local\\programs\\python\\python36\\lib\\site-packages (from dask[array]>=0.9.0->scikit-image) (1.14.1)\n",
      "Requirement already satisfied: toolz>=0.7.3; extra == \"array\" in c:\\users\\giora\\appdata\\local\\programs\\python\\python36\\lib\\site-packages (from dask[array]>=0.9.0->scikit-image) (0.9.0)\n",
      "Requirement already satisfied: decorator>=4.1.0 in c:\\users\\giora\\appdata\\local\\programs\\python\\python36\\lib\\site-packages (from networkx>=1.8->scikit-image) (4.3.0)\n"
     ]
    }
   ],
   "source": [
    "!pip install scikit-image"
   ]
  },
  {
   "cell_type": "code",
   "execution_count": 8,
   "metadata": {},
   "outputs": [
    {
     "name": "stderr",
     "output_type": "stream",
     "text": [
      "c:\\users\\giora\\appdata\\local\\programs\\python\\python36\\lib\\site-packages\\skimage\\util\\dtype.py:130: UserWarning: Possible precision loss when converting from float64 to uint8\n",
      "  .format(dtypeobj_in, dtypeobj_out))\n"
     ]
    }
   ],
   "source": [
    "from skimage import io, color\n",
    "import os\n",
    "import imghdr\n",
    "\n",
    "source = r'flowers\\waterlily' # Source Folder\n",
    "destination = r'bw\\waterlily' # Destination Folder\n",
    "\n",
    "image_files = [os.path.join(root, filename) \n",
    "                   for root, dirs, files in os.walk(source) \n",
    "                   for filename in files \n",
    "                   if imghdr.what(os.path.join(root, filename))]\n",
    "\n",
    "for fn in image_files:\n",
    "    rgb = io.imread(fn)\n",
    "    grey = color.rgb2gray(rgb)\n",
    "    head, tail = os.path.split(fn)\n",
    "    io.imsave(os.path.join(destination, tail), grey)"
   ]
  },
  {
   "cell_type": "code",
   "execution_count": null,
   "metadata": {},
   "outputs": [],
   "source": []
  }
 ],
 "metadata": {
  "kernelspec": {
   "display_name": "Python 3",
   "language": "python",
   "name": "python3"
  },
  "language_info": {
   "codemirror_mode": {
    "name": "ipython",
    "version": 3
   },
   "file_extension": ".py",
   "mimetype": "text/x-python",
   "name": "python",
   "nbconvert_exporter": "python",
   "pygments_lexer": "ipython3",
   "version": "3.6.5"
  }
 },
 "nbformat": 4,
 "nbformat_minor": 2
}
